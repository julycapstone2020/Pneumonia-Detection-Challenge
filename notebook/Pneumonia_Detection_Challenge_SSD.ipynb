{
  "nbformat": 4,
  "nbformat_minor": 0,
  "metadata": {
    "colab": {
      "name": "Pneumonia-Detection-Challenge-SSD.ipynb",
      "provenance": [],
      "collapsed_sections": [],
      "mount_file_id": "1mEtG0MQ4moxE83flMk6qgb8FQxJIKjO9",
      "authorship_tag": "ABX9TyOKoJPyf77DZ122/xNYyMxu",
      "include_colab_link": true
    },
    "kernelspec": {
      "name": "python3",
      "display_name": "Python 3"
    },
    "accelerator": "GPU"
  },
  "cells": [
    {
      "cell_type": "markdown",
      "metadata": {
        "id": "view-in-github",
        "colab_type": "text"
      },
      "source": [
        "<a href=\"https://colab.research.google.com/github/julycapstone2020/Pneumonia-Detection-Challenge/blob/development/notebook/Pneumonia_Detection_Challenge_SSD.ipynb\" target=\"_parent\"><img src=\"https://colab.research.google.com/assets/colab-badge.svg\" alt=\"Open In Colab\"/></a>"
      ]
    },
    {
      "cell_type": "markdown",
      "metadata": {
        "id": "hayxjwxN-_Ab",
        "colab_type": "text"
      },
      "source": [
        "# End-to-End Pneumonia Detection \n",
        "\n",
        "This notebook build an end-to-end build a pneumonia detection system, to locate the position of inflammation in an image.\n",
        "\n",
        "Tissues with sparse material, such as lungs which are full of air, do not absorb the X-rays and appear black in the image. Dense tissues such as bones absorb X-rays and appear white in the image.\n",
        "\n",
        "While we are theoretically detecting `lung opacities`, there are lung opacities that are not pneumonia related.\n",
        "\n",
        "## 1. Problem\n",
        "\n",
        "To locate the position of inflammation in an image.\n",
        "\n",
        "## 2. Data\n",
        "\n",
        "In the data, some of these are labeled `Not Normal No Lung Opacity`.This extra third class indicates that while pneumonia was determined not to be present, there was nonetheless some type of abnormality on the image and oftentimes this finding may mimic the appearance of true pneumonia.\n",
        "\n",
        "Dicom original images: -Medical images are stored in a special format called DICOM files `(*.dcm)`. They contain a combination of header metadata as well as underlying raw image arrays for pixel data.Details about the data and dataset files are given in below link,\n",
        "\n",
        "https://www.kaggle.com/c/rsna-pneumonia-detection-challenge/data\n",
        "\n",
        "### Pre-Processing, Data Visualization, EDA \n",
        "\n",
        "* Exploring the given Data files, classes and images of different classes.\n",
        "* Dealing with missing values\n",
        "* Visualizationof different classes \n",
        "* Analysis from the visualizationof different classes\n",
        "\n",
        "\n",
        "### Model Building \n",
        "\n",
        "* Building a pneumonia detection model starting from basic CNN and then improving upon it.\n",
        "* Train the model\n",
        "* To deal with large training time, save the weights so that you can use them when training the model for the second time without starting from scratch\n",
        "\n",
        "\n",
        "### Test the Model, Fine-tuning and Repeat\n",
        "\n",
        "* Test the model and report as per evaluation metrics\n",
        "* Try different models\n",
        "* Set different hyper parameters, by trying different optimizers, loss functions, epochs, learning rate, batch size, checkpointing, early stopping etc. for these models to fine-tune them\n",
        "* Report evaluation metrics for these modelsalong with your observation on how changing different hyper parameters leads to change in the final evaluation metric.\n",
        "\n",
        "## 3. Evaluation\n",
        "\n",
        "\n",
        "\n",
        "## 4. Features\n",
        "\n"
      ]
    },
    {
      "cell_type": "code",
      "metadata": {
        "id": "s3xU42fs-rZr",
        "colab_type": "code",
        "colab": {
          "base_uri": "https://localhost:8080/",
          "height": 122
        },
        "outputId": "8f59682d-3429-4869-aeea-228ec9b31fef"
      },
      "source": [
        "# Mount google drive\n",
        "\n",
        "from google.colab import drive\n",
        "drive.mount('/content/drive',force_remount=True)"
      ],
      "execution_count": 1,
      "outputs": [
        {
          "output_type": "stream",
          "text": [
            "Go to this URL in a browser: https://accounts.google.com/o/oauth2/auth?client_id=947318989803-6bn6qk8qdgf4n4g3pfee6491hc0brc4i.apps.googleusercontent.com&redirect_uri=urn%3aietf%3awg%3aoauth%3a2.0%3aoob&scope=email%20https%3a%2f%2fwww.googleapis.com%2fauth%2fdocs.test%20https%3a%2f%2fwww.googleapis.com%2fauth%2fdrive%20https%3a%2f%2fwww.googleapis.com%2fauth%2fdrive.photos.readonly%20https%3a%2f%2fwww.googleapis.com%2fauth%2fpeopleapi.readonly&response_type=code\n",
            "\n",
            "Enter your authorization code:\n",
            "··········\n",
            "Mounted at /content/drive\n"
          ],
          "name": "stdout"
        }
      ]
    },
    {
      "cell_type": "code",
      "metadata": {
        "id": "cMcncLKyBDA7",
        "colab_type": "code",
        "colab": {
          "base_uri": "https://localhost:8080/",
          "height": 102
        },
        "outputId": "1a53321c-d6b0-4d93-e318-d4a91173c8f3"
      },
      "source": [
        "try:\n",
        "  # %tensorflow_version only exists in Colab.\n",
        "  %tensorflow_version 1.x\n",
        "except Exception:\n",
        "  pass\n",
        "\n",
        "%tensorflow_version"
      ],
      "execution_count": 2,
      "outputs": [
        {
          "output_type": "stream",
          "text": [
            "TensorFlow 1.x selected.\n",
            "Currently selected TF version: 1.x\n",
            "Available versions:\n",
            "* 1.x\n",
            "* 2.x\n"
          ],
          "name": "stdout"
        }
      ]
    },
    {
      "cell_type": "code",
      "metadata": {
        "id": "0pBxX2-WPkrg",
        "colab_type": "code",
        "colab": {
          "base_uri": "https://localhost:8080/",
          "height": 394
        },
        "outputId": "fde4fd48-b3ae-4407-cd75-9c7c3f55438e"
      },
      "source": [
        "# Install 2.1.0 for saving model\n",
        "!pip install q keras==2.0.4"
      ],
      "execution_count": 3,
      "outputs": [
        {
          "output_type": "stream",
          "text": [
            "Collecting q\n",
            "  Downloading https://files.pythonhosted.org/packages/53/bc/51619d89e0bd855567e7652fa16d06f1ed36a85f108a7fe71f6629bf719d/q-2.6-py2.py3-none-any.whl\n",
            "Collecting keras==2.0.4\n",
            "\u001b[?25l  Downloading https://files.pythonhosted.org/packages/c9/81/ac6e14d01b62aa533ae52c4340e7da2dfecb61389ce0cebe9e5d14c01504/Keras-2.0.4.tar.gz (199kB)\n",
            "\r\u001b[K     |█▋                              | 10kB 17.7MB/s eta 0:00:01\r\u001b[K     |███▎                            | 20kB 7.4MB/s eta 0:00:01\r\u001b[K     |█████                           | 30kB 2.6MB/s eta 0:00:01\r\u001b[K     |██████▋                         | 40kB 3.4MB/s eta 0:00:01\r\u001b[K     |████████▏                       | 51kB 4.0MB/s eta 0:00:01\r\u001b[K     |█████████▉                      | 61kB 4.1MB/s eta 0:00:01\r\u001b[K     |███████████▌                    | 71kB 3.0MB/s eta 0:00:01\r\u001b[K     |█████████████▏                  | 81kB 3.3MB/s eta 0:00:01\r\u001b[K     |██████████████▊                 | 92kB 3.6MB/s eta 0:00:01\r\u001b[K     |████████████████▍               | 102kB 3.8MB/s eta 0:00:01\r\u001b[K     |██████████████████              | 112kB 3.8MB/s eta 0:00:01\r\u001b[K     |███████████████████▊            | 122kB 3.8MB/s eta 0:00:01\r\u001b[K     |█████████████████████▍          | 133kB 3.8MB/s eta 0:00:01\r\u001b[K     |███████████████████████         | 143kB 3.8MB/s eta 0:00:01\r\u001b[K     |████████████████████████▋       | 153kB 3.8MB/s eta 0:00:01\r\u001b[K     |██████████████████████████▎     | 163kB 3.8MB/s eta 0:00:01\r\u001b[K     |████████████████████████████    | 174kB 3.8MB/s eta 0:00:01\r\u001b[K     |█████████████████████████████▌  | 184kB 3.8MB/s eta 0:00:01\r\u001b[K     |███████████████████████████████▏| 194kB 3.8MB/s eta 0:00:01\r\u001b[K     |████████████████████████████████| 204kB 3.8MB/s \n",
            "\u001b[?25hRequirement already satisfied: theano in /usr/local/lib/python3.6/dist-packages (from keras==2.0.4) (1.0.5)\n",
            "Requirement already satisfied: pyyaml in /usr/local/lib/python3.6/dist-packages (from keras==2.0.4) (3.13)\n",
            "Requirement already satisfied: six in /usr/local/lib/python3.6/dist-packages (from keras==2.0.4) (1.15.0)\n",
            "Requirement already satisfied: numpy>=1.9.1 in /usr/local/lib/python3.6/dist-packages (from theano->keras==2.0.4) (1.18.5)\n",
            "Requirement already satisfied: scipy>=0.14 in /usr/local/lib/python3.6/dist-packages (from theano->keras==2.0.4) (1.4.1)\n",
            "Building wheels for collected packages: keras\n",
            "  Building wheel for keras (setup.py) ... \u001b[?25l\u001b[?25hdone\n",
            "  Created wheel for keras: filename=Keras-2.0.4-cp36-none-any.whl size=235518 sha256=69e6ef8540e2b4380ef2ab6b12492e62d3b92febe46e45d8ff899f4487c04a4c\n",
            "  Stored in directory: /root/.cache/pip/wheels/92/11/19/2b4dda9f2301c140d1ac59460321c5be612c7cde4f26a8b8be\n",
            "Successfully built keras\n",
            "\u001b[31mERROR: textgenrnn 1.4.1 has requirement keras>=2.1.5, but you'll have keras 2.0.4 which is incompatible.\u001b[0m\n",
            "Installing collected packages: q, keras\n",
            "  Found existing installation: Keras 2.3.1\n",
            "    Uninstalling Keras-2.3.1:\n",
            "      Successfully uninstalled Keras-2.3.1\n",
            "Successfully installed keras-2.4.3 q-2.6\n"
          ],
          "name": "stdout"
        }
      ]
    },
    {
      "cell_type": "code",
      "metadata": {
        "id": "ksvqyI3rPrda",
        "colab_type": "code",
        "colab": {
          "base_uri": "https://localhost:8080/",
          "height": 102
        },
        "outputId": "9790ab44-0529-4002-c0b0-c29293b9ca29"
      },
      "source": [
        "!git clone https://github.com/pierluigiferrari/ssd_keras"
      ],
      "execution_count": 4,
      "outputs": [
        {
          "output_type": "stream",
          "text": [
            "Cloning into 'ssd_keras'...\n",
            "remote: Enumerating objects: 1608, done.\u001b[K\n",
            "remote: Total 1608 (delta 0), reused 0 (delta 0), pack-reused 1608\n",
            "Receiving objects: 100% (1608/1608), 19.71 MiB | 7.30 MiB/s, done.\n",
            "Resolving deltas: 100% (1056/1056), done.\n"
          ],
          "name": "stdout"
        }
      ]
    },
    {
      "cell_type": "code",
      "metadata": {
        "id": "W5ymCEWmUoUk",
        "colab_type": "code",
        "colab": {
          "base_uri": "https://localhost:8080/",
          "height": 34
        },
        "outputId": "2ff6d6a5-d236-467d-906d-e3a5fcf6cb8b"
      },
      "source": [
        "!ls "
      ],
      "execution_count": 5,
      "outputs": [
        {
          "output_type": "stream",
          "text": [
            "drive  sample_data  ssd_keras\n"
          ],
          "name": "stdout"
        }
      ]
    },
    {
      "cell_type": "code",
      "metadata": {
        "id": "yEMfC9CoV9_A",
        "colab_type": "code",
        "colab": {}
      },
      "source": [
        "import os\n",
        "os.chdir('/content/ssd_keras')"
      ],
      "execution_count": 6,
      "outputs": []
    },
    {
      "cell_type": "code",
      "metadata": {
        "id": "XODVfKzTWPz0",
        "colab_type": "code",
        "colab": {
          "base_uri": "https://localhost:8080/",
          "height": 204
        },
        "outputId": "8eebaf77-fa57-4009-f5a9-d5f923fe9d7a"
      },
      "source": [
        "!ls"
      ],
      "execution_count": 7,
      "outputs": [
        {
          "output_type": "stream",
          "text": [
            "bounding_box_utils   models\n",
            "CONTRIBUTING.md      README.md\n",
            "data_generator\t     ssd300_evaluation_COCO.ipynb\n",
            "eval_utils\t     ssd300_evaluation.ipynb\n",
            "examples\t     ssd300_inference.ipynb\n",
            "__init__.py\t     ssd300_training.ipynb\n",
            "ISSUE_TEMPLATE.md    ssd512_inference.ipynb\n",
            "keras_layers\t     ssd7_training.ipynb\n",
            "keras_loss_function  ssd_encoder_decoder\n",
            "LICENSE.txt\t     training_summaries\n",
            "misc_utils\t     weight_sampling_tutorial.ipynb\n"
          ],
          "name": "stdout"
        }
      ]
    },
    {
      "cell_type": "code",
      "metadata": {
        "id": "fPiMMbvFPlN-",
        "colab_type": "code",
        "colab": {
          "base_uri": "https://localhost:8080/",
          "height": 34
        },
        "outputId": "ca1fc67b-401b-46d0-fb8d-678882e0b8b3"
      },
      "source": [
        "from tensorflow.keras.optimizers import Adam, SGD\n",
        "from keras.callbacks import ModelCheckpoint, LearningRateScheduler, CSVLogger\n",
        "from keras import backend as K\n",
        "from keras.models import load_model\n",
        "from math import ceil\n",
        "import numpy as np\n",
        "from matplotlib import pyplot as plt\n",
        "\n",
        "from models.keras_ssd300 import ssd_300\n",
        "from keras_loss_function.keras_ssd_loss import SSDLoss\n",
        "from keras_layers.keras_layer_AnchorBoxes import AnchorBoxes\n",
        "from keras_layers.keras_layer_DecodeDetections import DecodeDetections\n",
        "from keras_layers.keras_layer_DecodeDetectionsFast import DecodeDetectionsFast\n",
        "from keras_layers.keras_layer_L2Normalization import L2Normalization\n",
        "\n",
        "from ssd_encoder_decoder.ssd_input_encoder import SSDInputEncoder\n",
        "from ssd_encoder_decoder.ssd_output_decoder import decode_detections, decode_detections_fast\n",
        "\n",
        "from data_generator.object_detection_2d_data_generator import DataGenerator\n",
        "from data_generator.object_detection_2d_geometric_ops import Resize\n",
        "from data_generator.object_detection_2d_photometric_ops import ConvertTo3Channels\n",
        "from data_generator.data_augmentation_chain_original_ssd import SSDDataAugmentation\n",
        "from data_generator.object_detection_2d_misc_utils import apply_inverse_transforms\n",
        "from eval_utils.average_precision_evaluator import Evaluator\n",
        "\n",
        "%matplotlib inline"
      ],
      "execution_count": 8,
      "outputs": [
        {
          "output_type": "stream",
          "text": [
            "Using TensorFlow backend.\n"
          ],
          "name": "stderr"
        }
      ]
    },
    {
      "cell_type": "code",
      "metadata": {
        "id": "WEZJzYCiU2wM",
        "colab_type": "code",
        "colab": {}
      },
      "source": [
        "img_height = 300 # Height of the model input images\n",
        "img_width = 300 # Width of the model input images\n",
        "img_channels = 3 # Number of color channels of the model input images\n",
        "mean_color = [123, 117, 104] # The per-channel mean of the images in the dataset. Do not change this value if you're using any of the pre-trained weights.\n",
        "swap_channels = [2, 1, 0] # The color channel order in the original SSD is BGR, so we'll have the model reverse the color channel order of the input images.\n",
        "n_classes = 2 # Number of positive classes\n",
        "scales_pascal = [0.1, 0.2, 0.37, 0.54, 0.71, 0.88, 1.05] # The anchor box scaling factors used in the original SSD300 for the Pascal VOC datasets\n",
        "scales_coco = [0.07, 0.15, 0.33, 0.51, 0.69, 0.87, 1.05] # The anchor box scaling factors used in the original SSD300 for the MS COCO datasets\n",
        "scales = scales_pascal\n",
        "aspect_ratios = [[1.0, 2.0, 0.5],\n",
        "                 [1.0, 2.0, 0.5, 3.0, 1.0/3.0],\n",
        "                 [1.0, 2.0, 0.5, 3.0, 1.0/3.0],\n",
        "                 [1.0, 2.0, 0.5, 3.0, 1.0/3.0],\n",
        "                 [1.0, 2.0, 0.5],\n",
        "                 [1.0, 2.0, 0.5]] # The anchor box aspect ratios used in the original SSD300; the order matters\n",
        "two_boxes_for_ar1 = True\n",
        "steps = [8, 16, 32, 64, 100, 300] # The space between two adjacent anchor box center points for each predictor layer.\n",
        "offsets = [0.5, 0.5, 0.5, 0.5, 0.5, 0.5] # The offsets of the first anchor box center points from the top and left borders of the image as a fraction of the step size for each predictor layer.\n",
        "clip_boxes = False # Whether or not to clip the anchor boxes to lie entirely within the image boundaries\n",
        "variances = [0.1, 0.1, 0.2, 0.2] # The variances by which the encoded target coordinates are divided as in the original implementation\n",
        "normalize_coords = True\n",
        "model_mode = 'training'"
      ],
      "execution_count": 9,
      "outputs": []
    },
    {
      "cell_type": "code",
      "metadata": {
        "id": "Mryhr_0rXeqi",
        "colab_type": "code",
        "colab": {}
      },
      "source": [
        "Cur_Directory = '/content/drive/My Drive/Pneumonia Detection/SSD Models'"
      ],
      "execution_count": 10,
      "outputs": []
    },
    {
      "cell_type": "code",
      "metadata": {
        "id": "BVVVpMVBYiMi",
        "colab_type": "code",
        "colab": {}
      },
      "source": [
        "WeightFile = os.path.join(Cur_Directory,\"VGG_ILSVRC_16_layers_fc_reduced.h5\")"
      ],
      "execution_count": 11,
      "outputs": []
    },
    {
      "cell_type": "code",
      "metadata": {
        "id": "o7L90PgfYjdO",
        "colab_type": "code",
        "colab": {}
      },
      "source": [
        "# 1: Build the Keras model.\n",
        "\n",
        "#K.clear_session() # Clear previous models from memory.\n",
        "\n",
        "model = ssd_300(image_size=(img_height, img_width, img_channels),\n",
        "                n_classes=n_classes,\n",
        "                mode='training',\n",
        "                l2_regularization=0.0005,\n",
        "                scales=scales,\n",
        "                aspect_ratios_per_layer=aspect_ratios,\n",
        "                two_boxes_for_ar1=two_boxes_for_ar1,\n",
        "                steps=steps,\n",
        "                offsets=offsets,\n",
        "                clip_boxes=clip_boxes,\n",
        "                variances=variances,\n",
        "                normalize_coords=normalize_coords,\n",
        "                subtract_mean=mean_color,\n",
        "                swap_channels=swap_channels)\n",
        "\n",
        "# 2: Load some weights into the model.\n",
        "\n",
        "# TODO: Set the path to the weights you want to load.\n",
        "weights_path = os.path.join(Cur_Directory,\"VGG_ILSVRC_16_layers_fc_reduced.h5\")\n",
        "\n",
        "model.load_weights(weights_path, by_name=True)\n",
        "\n",
        "# 3: Instantiate an optimizer and the SSD loss function and compile the model.\n",
        "#    If you want to follow the original Caffe implementation, use the preset SGD\n",
        "#    optimizer, otherwise I'd recommend the commented-out Adam optimizer.\n",
        "\n",
        "adam = Adam(lr=0.001, beta_1=0.9, beta_2=0.999, epsilon=1e-08, decay=0.0)\n",
        "#sgd = SGD(lr=0.001, momentum=0.9, decay=0.0, nesterov=False)\n",
        "\n",
        "ssd_loss = SSDLoss(neg_pos_ratio=3, alpha=1.0)\n",
        "\n",
        "model.compile(optimizer=adam, loss=ssd_loss.compute_loss)"
      ],
      "execution_count": 63,
      "outputs": []
    },
    {
      "cell_type": "code",
      "metadata": {
        "id": "WHdendjZYmBW",
        "colab_type": "code",
        "colab": {}
      },
      "source": [
        "# model.save(os.path.join(Cur_Directory,\"model_ssd_initial_1.h5\"))"
      ],
      "execution_count": 64,
      "outputs": []
    },
    {
      "cell_type": "code",
      "metadata": {
        "id": "oHbxdtysY2dS",
        "colab_type": "code",
        "colab": {}
      },
      "source": [
        "# model_path = os.path.join(Cur_Directory,\"model_ssd_initial_1.h5\")"
      ],
      "execution_count": 65,
      "outputs": []
    },
    {
      "cell_type": "code",
      "metadata": {
        "id": "FRDX97uAGcin",
        "colab_type": "code",
        "colab": {}
      },
      "source": [
        "# model_trained = os.path.join(Cur_Directory,\"ssd300_pneumonia_epoch-39_loss-4.3320_val_loss-4.2565.h5\")"
      ],
      "execution_count": 66,
      "outputs": []
    },
    {
      "cell_type": "code",
      "metadata": {
        "id": "OVKShvmcGnxG",
        "colab_type": "code",
        "colab": {}
      },
      "source": [
        "# ssd_loss = SSDLoss(neg_pos_ratio=3, alpha=1.0)\n",
        "\n",
        "# #K.clear_session() # Clear previous models from memory.\n",
        "\n",
        "# model = load_model(model_trained, custom_objects={'AnchorBoxes': AnchorBoxes,\n",
        "#                                                'L2Normalization': L2Normalization,\n",
        "#                                                'compute_loss': ssd_loss.compute_loss})"
      ],
      "execution_count": 67,
      "outputs": []
    },
    {
      "cell_type": "code",
      "metadata": {
        "id": "Py7Vs2aLGtUW",
        "colab_type": "code",
        "colab": {
          "base_uri": "https://localhost:8080/",
          "height": 1000
        },
        "outputId": "943a3b6d-b80d-4000-9a50-7d2c80da62dc"
      },
      "source": [
        "model.summary()"
      ],
      "execution_count": 68,
      "outputs": [
        {
          "output_type": "stream",
          "text": [
            "____________________________________________________________________________________________________\n",
            "Layer (type)                     Output Shape          Param #     Connected to                     \n",
            "====================================================================================================\n",
            "input_2 (InputLayer)             (None, 300, 300, 3)   0                                            \n",
            "____________________________________________________________________________________________________\n",
            "identity_layer (Lambda)          (None, 300, 300, 3)   0           input_2[0][0]                    \n",
            "____________________________________________________________________________________________________\n",
            "input_mean_normalization (Lambda (None, 300, 300, 3)   0           identity_layer[0][0]             \n",
            "____________________________________________________________________________________________________\n",
            "input_channel_swap (Lambda)      (None, 300, 300, 3)   0           input_mean_normalization[0][0]   \n",
            "____________________________________________________________________________________________________\n",
            "conv1_1 (Conv2D)                 (None, 300, 300, 64)  1792        input_channel_swap[0][0]         \n",
            "____________________________________________________________________________________________________\n",
            "conv1_2 (Conv2D)                 (None, 300, 300, 64)  36928       conv1_1[0][0]                    \n",
            "____________________________________________________________________________________________________\n",
            "pool1 (MaxPooling2D)             (None, 150, 150, 64)  0           conv1_2[0][0]                    \n",
            "____________________________________________________________________________________________________\n",
            "conv2_1 (Conv2D)                 (None, 150, 150, 128) 73856       pool1[0][0]                      \n",
            "____________________________________________________________________________________________________\n",
            "conv2_2 (Conv2D)                 (None, 150, 150, 128) 147584      conv2_1[0][0]                    \n",
            "____________________________________________________________________________________________________\n",
            "pool2 (MaxPooling2D)             (None, 75, 75, 128)   0           conv2_2[0][0]                    \n",
            "____________________________________________________________________________________________________\n",
            "conv3_1 (Conv2D)                 (None, 75, 75, 256)   295168      pool2[0][0]                      \n",
            "____________________________________________________________________________________________________\n",
            "conv3_2 (Conv2D)                 (None, 75, 75, 256)   590080      conv3_1[0][0]                    \n",
            "____________________________________________________________________________________________________\n",
            "conv3_3 (Conv2D)                 (None, 75, 75, 256)   590080      conv3_2[0][0]                    \n",
            "____________________________________________________________________________________________________\n",
            "pool3 (MaxPooling2D)             (None, 38, 38, 256)   0           conv3_3[0][0]                    \n",
            "____________________________________________________________________________________________________\n",
            "conv4_1 (Conv2D)                 (None, 38, 38, 512)   1180160     pool3[0][0]                      \n",
            "____________________________________________________________________________________________________\n",
            "conv4_2 (Conv2D)                 (None, 38, 38, 512)   2359808     conv4_1[0][0]                    \n",
            "____________________________________________________________________________________________________\n",
            "conv4_3 (Conv2D)                 (None, 38, 38, 512)   2359808     conv4_2[0][0]                    \n",
            "____________________________________________________________________________________________________\n",
            "pool4 (MaxPooling2D)             (None, 19, 19, 512)   0           conv4_3[0][0]                    \n",
            "____________________________________________________________________________________________________\n",
            "conv5_1 (Conv2D)                 (None, 19, 19, 512)   2359808     pool4[0][0]                      \n",
            "____________________________________________________________________________________________________\n",
            "conv5_2 (Conv2D)                 (None, 19, 19, 512)   2359808     conv5_1[0][0]                    \n",
            "____________________________________________________________________________________________________\n",
            "conv5_3 (Conv2D)                 (None, 19, 19, 512)   2359808     conv5_2[0][0]                    \n",
            "____________________________________________________________________________________________________\n",
            "pool5 (MaxPooling2D)             (None, 19, 19, 512)   0           conv5_3[0][0]                    \n",
            "____________________________________________________________________________________________________\n",
            "fc6 (Conv2D)                     (None, 19, 19, 1024)  4719616     pool5[0][0]                      \n",
            "____________________________________________________________________________________________________\n",
            "fc7 (Conv2D)                     (None, 19, 19, 1024)  1049600     fc6[0][0]                        \n",
            "____________________________________________________________________________________________________\n",
            "conv6_1 (Conv2D)                 (None, 19, 19, 256)   262400      fc7[0][0]                        \n",
            "____________________________________________________________________________________________________\n",
            "conv6_padding (ZeroPadding2D)    (None, 21, 21, 256)   0           conv6_1[0][0]                    \n",
            "____________________________________________________________________________________________________\n",
            "conv6_2 (Conv2D)                 (None, 10, 10, 512)   1180160     conv6_padding[0][0]              \n",
            "____________________________________________________________________________________________________\n",
            "conv7_1 (Conv2D)                 (None, 10, 10, 128)   65664       conv6_2[0][0]                    \n",
            "____________________________________________________________________________________________________\n",
            "conv7_padding (ZeroPadding2D)    (None, 12, 12, 128)   0           conv7_1[0][0]                    \n",
            "____________________________________________________________________________________________________\n",
            "conv7_2 (Conv2D)                 (None, 5, 5, 256)     295168      conv7_padding[0][0]              \n",
            "____________________________________________________________________________________________________\n",
            "conv8_1 (Conv2D)                 (None, 5, 5, 128)     32896       conv7_2[0][0]                    \n",
            "____________________________________________________________________________________________________\n",
            "conv8_2 (Conv2D)                 (None, 3, 3, 256)     295168      conv8_1[0][0]                    \n",
            "____________________________________________________________________________________________________\n",
            "conv9_1 (Conv2D)                 (None, 3, 3, 128)     32896       conv8_2[0][0]                    \n",
            "____________________________________________________________________________________________________\n",
            "conv4_3_norm (L2Normalization)   (None, 38, 38, 512)   512         conv4_3[0][0]                    \n",
            "____________________________________________________________________________________________________\n",
            "conv9_2 (Conv2D)                 (None, 1, 1, 256)     295168      conv9_1[0][0]                    \n",
            "____________________________________________________________________________________________________\n",
            "conv4_3_norm_mbox_conf (Conv2D)  (None, 38, 38, 12)    55308       conv4_3_norm[0][0]               \n",
            "____________________________________________________________________________________________________\n",
            "fc7_mbox_conf (Conv2D)           (None, 19, 19, 18)    165906      fc7[0][0]                        \n",
            "____________________________________________________________________________________________________\n",
            "conv6_2_mbox_conf (Conv2D)       (None, 10, 10, 18)    82962       conv6_2[0][0]                    \n",
            "____________________________________________________________________________________________________\n",
            "conv7_2_mbox_conf (Conv2D)       (None, 5, 5, 18)      41490       conv7_2[0][0]                    \n",
            "____________________________________________________________________________________________________\n",
            "conv8_2_mbox_conf (Conv2D)       (None, 3, 3, 12)      27660       conv8_2[0][0]                    \n",
            "____________________________________________________________________________________________________\n",
            "conv9_2_mbox_conf (Conv2D)       (None, 1, 1, 12)      27660       conv9_2[0][0]                    \n",
            "____________________________________________________________________________________________________\n",
            "conv4_3_norm_mbox_loc (Conv2D)   (None, 38, 38, 16)    73744       conv4_3_norm[0][0]               \n",
            "____________________________________________________________________________________________________\n",
            "fc7_mbox_loc (Conv2D)            (None, 19, 19, 24)    221208      fc7[0][0]                        \n",
            "____________________________________________________________________________________________________\n",
            "conv6_2_mbox_loc (Conv2D)        (None, 10, 10, 24)    110616      conv6_2[0][0]                    \n",
            "____________________________________________________________________________________________________\n",
            "conv7_2_mbox_loc (Conv2D)        (None, 5, 5, 24)      55320       conv7_2[0][0]                    \n",
            "____________________________________________________________________________________________________\n",
            "conv8_2_mbox_loc (Conv2D)        (None, 3, 3, 16)      36880       conv8_2[0][0]                    \n",
            "____________________________________________________________________________________________________\n",
            "conv9_2_mbox_loc (Conv2D)        (None, 1, 1, 16)      36880       conv9_2[0][0]                    \n",
            "____________________________________________________________________________________________________\n",
            "conv4_3_norm_mbox_conf_reshape ( (None, 5776, 3)       0           conv4_3_norm_mbox_conf[0][0]     \n",
            "____________________________________________________________________________________________________\n",
            "fc7_mbox_conf_reshape (Reshape)  (None, 2166, 3)       0           fc7_mbox_conf[0][0]              \n",
            "____________________________________________________________________________________________________\n",
            "conv6_2_mbox_conf_reshape (Resha (None, 600, 3)        0           conv6_2_mbox_conf[0][0]          \n",
            "____________________________________________________________________________________________________\n",
            "conv7_2_mbox_conf_reshape (Resha (None, 150, 3)        0           conv7_2_mbox_conf[0][0]          \n",
            "____________________________________________________________________________________________________\n",
            "conv8_2_mbox_conf_reshape (Resha (None, 36, 3)         0           conv8_2_mbox_conf[0][0]          \n",
            "____________________________________________________________________________________________________\n",
            "conv9_2_mbox_conf_reshape (Resha (None, 4, 3)          0           conv9_2_mbox_conf[0][0]          \n",
            "____________________________________________________________________________________________________\n",
            "conv4_3_norm_mbox_priorbox (Anch (None, 38, 38, 4, 8)  0           conv4_3_norm_mbox_loc[0][0]      \n",
            "____________________________________________________________________________________________________\n",
            "fc7_mbox_priorbox (AnchorBoxes)  (None, 19, 19, 6, 8)  0           fc7_mbox_loc[0][0]               \n",
            "____________________________________________________________________________________________________\n",
            "conv6_2_mbox_priorbox (AnchorBox (None, 10, 10, 6, 8)  0           conv6_2_mbox_loc[0][0]           \n",
            "____________________________________________________________________________________________________\n",
            "conv7_2_mbox_priorbox (AnchorBox (None, 5, 5, 6, 8)    0           conv7_2_mbox_loc[0][0]           \n",
            "____________________________________________________________________________________________________\n",
            "conv8_2_mbox_priorbox (AnchorBox (None, 3, 3, 4, 8)    0           conv8_2_mbox_loc[0][0]           \n",
            "____________________________________________________________________________________________________\n",
            "conv9_2_mbox_priorbox (AnchorBox (None, 1, 1, 4, 8)    0           conv9_2_mbox_loc[0][0]           \n",
            "____________________________________________________________________________________________________\n",
            "mbox_conf (Concatenate)          (None, 8732, 3)       0           conv4_3_norm_mbox_conf_reshape[0]\n",
            "                                                                   fc7_mbox_conf_reshape[0][0]      \n",
            "                                                                   conv6_2_mbox_conf_reshape[0][0]  \n",
            "                                                                   conv7_2_mbox_conf_reshape[0][0]  \n",
            "                                                                   conv8_2_mbox_conf_reshape[0][0]  \n",
            "                                                                   conv9_2_mbox_conf_reshape[0][0]  \n",
            "____________________________________________________________________________________________________\n",
            "conv4_3_norm_mbox_loc_reshape (R (None, 5776, 4)       0           conv4_3_norm_mbox_loc[0][0]      \n",
            "____________________________________________________________________________________________________\n",
            "fc7_mbox_loc_reshape (Reshape)   (None, 2166, 4)       0           fc7_mbox_loc[0][0]               \n",
            "____________________________________________________________________________________________________\n",
            "conv6_2_mbox_loc_reshape (Reshap (None, 600, 4)        0           conv6_2_mbox_loc[0][0]           \n",
            "____________________________________________________________________________________________________\n",
            "conv7_2_mbox_loc_reshape (Reshap (None, 150, 4)        0           conv7_2_mbox_loc[0][0]           \n",
            "____________________________________________________________________________________________________\n",
            "conv8_2_mbox_loc_reshape (Reshap (None, 36, 4)         0           conv8_2_mbox_loc[0][0]           \n",
            "____________________________________________________________________________________________________\n",
            "conv9_2_mbox_loc_reshape (Reshap (None, 4, 4)          0           conv9_2_mbox_loc[0][0]           \n",
            "____________________________________________________________________________________________________\n",
            "conv4_3_norm_mbox_priorbox_resha (None, 5776, 8)       0           conv4_3_norm_mbox_priorbox[0][0] \n",
            "____________________________________________________________________________________________________\n",
            "fc7_mbox_priorbox_reshape (Resha (None, 2166, 8)       0           fc7_mbox_priorbox[0][0]          \n",
            "____________________________________________________________________________________________________\n",
            "conv6_2_mbox_priorbox_reshape (R (None, 600, 8)        0           conv6_2_mbox_priorbox[0][0]      \n",
            "____________________________________________________________________________________________________\n",
            "conv7_2_mbox_priorbox_reshape (R (None, 150, 8)        0           conv7_2_mbox_priorbox[0][0]      \n",
            "____________________________________________________________________________________________________\n",
            "conv8_2_mbox_priorbox_reshape (R (None, 36, 8)         0           conv8_2_mbox_priorbox[0][0]      \n",
            "____________________________________________________________________________________________________\n",
            "conv9_2_mbox_priorbox_reshape (R (None, 4, 8)          0           conv9_2_mbox_priorbox[0][0]      \n",
            "____________________________________________________________________________________________________\n",
            "mbox_conf_softmax (Activation)   (None, 8732, 3)       0           mbox_conf[0][0]                  \n",
            "____________________________________________________________________________________________________\n",
            "mbox_loc (Concatenate)           (None, 8732, 4)       0           conv4_3_norm_mbox_loc_reshape[0][\n",
            "                                                                   fc7_mbox_loc_reshape[0][0]       \n",
            "                                                                   conv6_2_mbox_loc_reshape[0][0]   \n",
            "                                                                   conv7_2_mbox_loc_reshape[0][0]   \n",
            "                                                                   conv8_2_mbox_loc_reshape[0][0]   \n",
            "                                                                   conv9_2_mbox_loc_reshape[0][0]   \n",
            "____________________________________________________________________________________________________\n",
            "mbox_priorbox (Concatenate)      (None, 8732, 8)       0           conv4_3_norm_mbox_priorbox_reshap\n",
            "                                                                   fc7_mbox_priorbox_reshape[0][0]  \n",
            "                                                                   conv6_2_mbox_priorbox_reshape[0][\n",
            "                                                                   conv7_2_mbox_priorbox_reshape[0][\n",
            "                                                                   conv8_2_mbox_priorbox_reshape[0][\n",
            "                                                                   conv9_2_mbox_priorbox_reshape[0][\n",
            "____________________________________________________________________________________________________\n",
            "predictions (Concatenate)        (None, 8732, 15)      0           mbox_conf_softmax[0][0]          \n",
            "                                                                   mbox_loc[0][0]                   \n",
            "                                                                   mbox_priorbox[0][0]              \n",
            "====================================================================================================\n",
            "Total params: 23,879,570\n",
            "Trainable params: 23,879,570\n",
            "Non-trainable params: 0\n",
            "____________________________________________________________________________________________________\n"
          ],
          "name": "stdout"
        }
      ]
    },
    {
      "cell_type": "code",
      "metadata": {
        "id": "Mq790Z4dg_0L",
        "colab_type": "code",
        "colab": {
          "base_uri": "https://localhost:8080/",
          "height": 204
        },
        "outputId": "79881824-f54a-44ad-b531-9345dac9469b"
      },
      "source": [
        "!ls "
      ],
      "execution_count": 69,
      "outputs": [
        {
          "output_type": "stream",
          "text": [
            "bounding_box_utils   models\n",
            "CONTRIBUTING.md      README.md\n",
            "data_generator\t     ssd300_evaluation_COCO.ipynb\n",
            "eval_utils\t     ssd300_evaluation.ipynb\n",
            "examples\t     ssd300_inference.ipynb\n",
            "__init__.py\t     ssd300_training.ipynb\n",
            "ISSUE_TEMPLATE.md    ssd512_inference.ipynb\n",
            "keras_layers\t     ssd7_training.ipynb\n",
            "keras_loss_function  ssd_encoder_decoder\n",
            "LICENSE.txt\t     training_summaries\n",
            "misc_utils\t     weight_sampling_tutorial.ipynb\n"
          ],
          "name": "stdout"
        }
      ]
    },
    {
      "cell_type": "code",
      "metadata": {
        "id": "2y8Ig9o1I_zI",
        "colab_type": "code",
        "colab": {
          "base_uri": "https://localhost:8080/",
          "height": 68
        },
        "outputId": "b64248d0-648a-4da2-ac64-a449e24d5877"
      },
      "source": [
        "# Checkout the labels of our data\n",
        "import pandas as pd\n",
        "import numpy as np\n",
        "\n",
        "PROJECT_DIR = \"/content/drive/My Drive/Pneumonia Detection\"\n",
        "\n",
        "# /content/drive/My Drive/Pneumonia Detection/stage_2_train_labels.csv\n",
        "# /content/drive/My Drive/Pneumonia Detection/stage_2_detailed_class_info.csv\n",
        "\n",
        "print(os.path.join(PROJECT_DIR , 'stage_2_detailed_class_info.csv'))\n",
        "\n",
        "class_info_df = pd.read_csv(os.path.join(PROJECT_DIR , 'stage_2_detailed_class_info.csv'))\n",
        "train_labels_df = pd.read_csv(os.path.join(PROJECT_DIR , 'stage_2_train_labels.csv'))\n",
        "\n",
        "print(f\"Detailed class info -  rows: {class_info_df.shape[0]}, columns: {class_info_df.shape[1]}\")\n",
        "print(f\"Train labels -  rows: {train_labels_df.shape[0]}, columns: {train_labels_df.shape[1]}\")"
      ],
      "execution_count": 70,
      "outputs": [
        {
          "output_type": "stream",
          "text": [
            "/content/drive/My Drive/Pneumonia Detection/stage_2_detailed_class_info.csv\n",
            "Detailed class info -  rows: 30227, columns: 2\n",
            "Train labels -  rows: 30227, columns: 6\n"
          ],
          "name": "stdout"
        }
      ]
    },
    {
      "cell_type": "markdown",
      "metadata": {
        "id": "Cl_27RIrJoC6",
        "colab_type": "text"
      },
      "source": [
        "### Merge both `class info` and `train labels` into one dataset"
      ]
    },
    {
      "cell_type": "code",
      "metadata": {
        "id": "Hu5VWdunJrM6",
        "colab_type": "code",
        "colab": {}
      },
      "source": [
        "train_class_df = train_labels_df.merge(class_info_df, left_on='patientId', right_on='patientId', how='inner')"
      ],
      "execution_count": 71,
      "outputs": []
    },
    {
      "cell_type": "code",
      "metadata": {
        "id": "7CWa54wMJuQ3",
        "colab_type": "code",
        "colab": {
          "base_uri": "https://localhost:8080/",
          "height": 204
        },
        "outputId": "7b5df863-b78a-4a0d-b6fb-b868fe2188f1"
      },
      "source": [
        "train_class_df.head()"
      ],
      "execution_count": 72,
      "outputs": [
        {
          "output_type": "execute_result",
          "data": {
            "text/html": [
              "<div>\n",
              "<style scoped>\n",
              "    .dataframe tbody tr th:only-of-type {\n",
              "        vertical-align: middle;\n",
              "    }\n",
              "\n",
              "    .dataframe tbody tr th {\n",
              "        vertical-align: top;\n",
              "    }\n",
              "\n",
              "    .dataframe thead th {\n",
              "        text-align: right;\n",
              "    }\n",
              "</style>\n",
              "<table border=\"1\" class=\"dataframe\">\n",
              "  <thead>\n",
              "    <tr style=\"text-align: right;\">\n",
              "      <th></th>\n",
              "      <th>patientId</th>\n",
              "      <th>x</th>\n",
              "      <th>y</th>\n",
              "      <th>width</th>\n",
              "      <th>height</th>\n",
              "      <th>Target</th>\n",
              "      <th>class</th>\n",
              "    </tr>\n",
              "  </thead>\n",
              "  <tbody>\n",
              "    <tr>\n",
              "      <th>0</th>\n",
              "      <td>0004cfab-14fd-4e49-80ba-63a80b6bddd6</td>\n",
              "      <td>NaN</td>\n",
              "      <td>NaN</td>\n",
              "      <td>NaN</td>\n",
              "      <td>NaN</td>\n",
              "      <td>0</td>\n",
              "      <td>No Lung Opacity / Not Normal</td>\n",
              "    </tr>\n",
              "    <tr>\n",
              "      <th>1</th>\n",
              "      <td>00313ee0-9eaa-42f4-b0ab-c148ed3241cd</td>\n",
              "      <td>NaN</td>\n",
              "      <td>NaN</td>\n",
              "      <td>NaN</td>\n",
              "      <td>NaN</td>\n",
              "      <td>0</td>\n",
              "      <td>No Lung Opacity / Not Normal</td>\n",
              "    </tr>\n",
              "    <tr>\n",
              "      <th>2</th>\n",
              "      <td>00322d4d-1c29-4943-afc9-b6754be640eb</td>\n",
              "      <td>NaN</td>\n",
              "      <td>NaN</td>\n",
              "      <td>NaN</td>\n",
              "      <td>NaN</td>\n",
              "      <td>0</td>\n",
              "      <td>No Lung Opacity / Not Normal</td>\n",
              "    </tr>\n",
              "    <tr>\n",
              "      <th>3</th>\n",
              "      <td>003d8fa0-6bf1-40ed-b54c-ac657f8495c5</td>\n",
              "      <td>NaN</td>\n",
              "      <td>NaN</td>\n",
              "      <td>NaN</td>\n",
              "      <td>NaN</td>\n",
              "      <td>0</td>\n",
              "      <td>Normal</td>\n",
              "    </tr>\n",
              "    <tr>\n",
              "      <th>4</th>\n",
              "      <td>00436515-870c-4b36-a041-de91049b9ab4</td>\n",
              "      <td>264.0</td>\n",
              "      <td>152.0</td>\n",
              "      <td>213.0</td>\n",
              "      <td>379.0</td>\n",
              "      <td>1</td>\n",
              "      <td>Lung Opacity</td>\n",
              "    </tr>\n",
              "  </tbody>\n",
              "</table>\n",
              "</div>"
            ],
            "text/plain": [
              "                              patientId  ...                         class\n",
              "0  0004cfab-14fd-4e49-80ba-63a80b6bddd6  ...  No Lung Opacity / Not Normal\n",
              "1  00313ee0-9eaa-42f4-b0ab-c148ed3241cd  ...  No Lung Opacity / Not Normal\n",
              "2  00322d4d-1c29-4943-afc9-b6754be640eb  ...  No Lung Opacity / Not Normal\n",
              "3  003d8fa0-6bf1-40ed-b54c-ac657f8495c5  ...                        Normal\n",
              "4  00436515-870c-4b36-a041-de91049b9ab4  ...                  Lung Opacity\n",
              "\n",
              "[5 rows x 7 columns]"
            ]
          },
          "metadata": {
            "tags": []
          },
          "execution_count": 72
        }
      ]
    },
    {
      "cell_type": "code",
      "metadata": {
        "id": "o80TB6UaNFfZ",
        "colab_type": "code",
        "colab": {}
      },
      "source": [
        "# Fill numeric rows with the zero\n",
        "for label, content in train_class_df.items():\n",
        "    if pd.api.types.is_numeric_dtype(content):\n",
        "        if pd.isnull(content).sum():\n",
        "             # Fill missing numeric values with median\n",
        "            train_class_df[label] = content.fillna(0)"
      ],
      "execution_count": 73,
      "outputs": []
    },
    {
      "cell_type": "code",
      "metadata": {
        "id": "EASIEEX9OZPZ",
        "colab_type": "code",
        "colab": {
          "base_uri": "https://localhost:8080/",
          "height": 153
        },
        "outputId": "94ed7e41-8f74-4633-e24c-0702b5f23f75"
      },
      "source": [
        "# Check if there are any missing numberic values\n",
        "train_class_df.isna().sum()"
      ],
      "execution_count": 74,
      "outputs": [
        {
          "output_type": "execute_result",
          "data": {
            "text/plain": [
              "patientId    0\n",
              "x            0\n",
              "y            0\n",
              "width        0\n",
              "height       0\n",
              "Target       0\n",
              "class        0\n",
              "dtype: int64"
            ]
          },
          "metadata": {
            "tags": []
          },
          "execution_count": 74
        }
      ]
    },
    {
      "cell_type": "code",
      "metadata": {
        "id": "XKA9vjKkdRGK",
        "colab_type": "code",
        "colab": {}
      },
      "source": [
        "train_class_df.columns = ['image_name', 'xmin', 'ymin', 'xmax', 'ymax', 'class_id','class']"
      ],
      "execution_count": 75,
      "outputs": []
    },
    {
      "cell_type": "code",
      "metadata": {
        "id": "Ncj50G_KJyfh",
        "colab_type": "code",
        "colab": {
          "base_uri": "https://localhost:8080/",
          "height": 255
        },
        "outputId": "a2ce935e-3476-4211-84d7-af25d6e59484"
      },
      "source": [
        "train_class_df.info()"
      ],
      "execution_count": 76,
      "outputs": [
        {
          "output_type": "stream",
          "text": [
            "<class 'pandas.core.frame.DataFrame'>\n",
            "Int64Index: 37629 entries, 0 to 37628\n",
            "Data columns (total 7 columns):\n",
            " #   Column      Non-Null Count  Dtype  \n",
            "---  ------      --------------  -----  \n",
            " 0   image_name  37629 non-null  object \n",
            " 1   xmin        37629 non-null  float64\n",
            " 2   ymin        37629 non-null  float64\n",
            " 3   xmax        37629 non-null  float64\n",
            " 4   ymax        37629 non-null  float64\n",
            " 5   class_id    37629 non-null  int64  \n",
            " 6   class       37629 non-null  object \n",
            "dtypes: float64(4), int64(1), object(2)\n",
            "memory usage: 2.3+ MB\n"
          ],
          "name": "stdout"
        }
      ]
    },
    {
      "cell_type": "code",
      "metadata": {
        "id": "vOIYPwU6KuCZ",
        "colab_type": "code",
        "colab": {
          "base_uri": "https://localhost:8080/",
          "height": 255
        },
        "outputId": "d9b70f72-6a42-4944-85a5-49715b004ada"
      },
      "source": [
        "train_class_df.drop_duplicates(subset=['image_name', 'xmin', 'ymin', 'xmax', 'ymax' ], keep='first', inplace=True)\n",
        "\n",
        "train_class_df.info()"
      ],
      "execution_count": 77,
      "outputs": [
        {
          "output_type": "stream",
          "text": [
            "<class 'pandas.core.frame.DataFrame'>\n",
            "Int64Index: 30227 entries, 0 to 37627\n",
            "Data columns (total 7 columns):\n",
            " #   Column      Non-Null Count  Dtype  \n",
            "---  ------      --------------  -----  \n",
            " 0   image_name  30227 non-null  object \n",
            " 1   xmin        30227 non-null  float64\n",
            " 2   ymin        30227 non-null  float64\n",
            " 3   xmax        30227 non-null  float64\n",
            " 4   ymax        30227 non-null  float64\n",
            " 5   class_id    30227 non-null  int64  \n",
            " 6   class       30227 non-null  object \n",
            "dtypes: float64(4), int64(1), object(2)\n",
            "memory usage: 1.8+ MB\n"
          ],
          "name": "stdout"
        }
      ]
    },
    {
      "cell_type": "code",
      "metadata": {
        "id": "GXhuNee4fa3n",
        "colab_type": "code",
        "colab": {}
      },
      "source": [
        " train_class_df = train_class_df[train_class_df['class_id'] == 1]"
      ],
      "execution_count": 78,
      "outputs": []
    },
    {
      "cell_type": "code",
      "metadata": {
        "id": "utI_bPdXftgK",
        "colab_type": "code",
        "colab": {
          "base_uri": "https://localhost:8080/",
          "height": 255
        },
        "outputId": "cb90e98f-725c-4c36-c8a8-a2f2ee35872b"
      },
      "source": [
        "train_class_df.info()"
      ],
      "execution_count": 79,
      "outputs": [
        {
          "output_type": "stream",
          "text": [
            "<class 'pandas.core.frame.DataFrame'>\n",
            "Int64Index: 9555 entries, 4 to 37627\n",
            "Data columns (total 7 columns):\n",
            " #   Column      Non-Null Count  Dtype  \n",
            "---  ------      --------------  -----  \n",
            " 0   image_name  9555 non-null   object \n",
            " 1   xmin        9555 non-null   float64\n",
            " 2   ymin        9555 non-null   float64\n",
            " 3   xmax        9555 non-null   float64\n",
            " 4   ymax        9555 non-null   float64\n",
            " 5   class_id    9555 non-null   int64  \n",
            " 6   class       9555 non-null   object \n",
            "dtypes: float64(4), int64(1), object(2)\n",
            "memory usage: 597.2+ KB\n"
          ],
          "name": "stdout"
        }
      ]
    },
    {
      "cell_type": "code",
      "metadata": {
        "id": "RnVeC528RLwa",
        "colab_type": "code",
        "colab": {
          "base_uri": "https://localhost:8080/",
          "height": 204
        },
        "outputId": "840f4c88-5b41-4fc3-d904-b3a22dd003b9"
      },
      "source": [
        "train_class_df = train_class_df[['image_name', 'class_id', 'xmin', 'ymin', 'xmax', 'ymax', 'class']]\n",
        "train_class_df.head()"
      ],
      "execution_count": 80,
      "outputs": [
        {
          "output_type": "execute_result",
          "data": {
            "text/html": [
              "<div>\n",
              "<style scoped>\n",
              "    .dataframe tbody tr th:only-of-type {\n",
              "        vertical-align: middle;\n",
              "    }\n",
              "\n",
              "    .dataframe tbody tr th {\n",
              "        vertical-align: top;\n",
              "    }\n",
              "\n",
              "    .dataframe thead th {\n",
              "        text-align: right;\n",
              "    }\n",
              "</style>\n",
              "<table border=\"1\" class=\"dataframe\">\n",
              "  <thead>\n",
              "    <tr style=\"text-align: right;\">\n",
              "      <th></th>\n",
              "      <th>image_name</th>\n",
              "      <th>class_id</th>\n",
              "      <th>xmin</th>\n",
              "      <th>ymin</th>\n",
              "      <th>xmax</th>\n",
              "      <th>ymax</th>\n",
              "      <th>class</th>\n",
              "    </tr>\n",
              "  </thead>\n",
              "  <tbody>\n",
              "    <tr>\n",
              "      <th>4</th>\n",
              "      <td>00436515-870c-4b36-a041-de91049b9ab4</td>\n",
              "      <td>1</td>\n",
              "      <td>264.0</td>\n",
              "      <td>152.0</td>\n",
              "      <td>213.0</td>\n",
              "      <td>379.0</td>\n",
              "      <td>Lung Opacity</td>\n",
              "    </tr>\n",
              "    <tr>\n",
              "      <th>6</th>\n",
              "      <td>00436515-870c-4b36-a041-de91049b9ab4</td>\n",
              "      <td>1</td>\n",
              "      <td>562.0</td>\n",
              "      <td>152.0</td>\n",
              "      <td>256.0</td>\n",
              "      <td>453.0</td>\n",
              "      <td>Lung Opacity</td>\n",
              "    </tr>\n",
              "    <tr>\n",
              "      <th>10</th>\n",
              "      <td>00704310-78a8-4b38-8475-49f4573b2dbb</td>\n",
              "      <td>1</td>\n",
              "      <td>323.0</td>\n",
              "      <td>577.0</td>\n",
              "      <td>160.0</td>\n",
              "      <td>104.0</td>\n",
              "      <td>Lung Opacity</td>\n",
              "    </tr>\n",
              "    <tr>\n",
              "      <th>12</th>\n",
              "      <td>00704310-78a8-4b38-8475-49f4573b2dbb</td>\n",
              "      <td>1</td>\n",
              "      <td>695.0</td>\n",
              "      <td>575.0</td>\n",
              "      <td>162.0</td>\n",
              "      <td>137.0</td>\n",
              "      <td>Lung Opacity</td>\n",
              "    </tr>\n",
              "    <tr>\n",
              "      <th>18</th>\n",
              "      <td>00aecb01-a116-45a2-956c-08d2fa55433f</td>\n",
              "      <td>1</td>\n",
              "      <td>288.0</td>\n",
              "      <td>322.0</td>\n",
              "      <td>94.0</td>\n",
              "      <td>135.0</td>\n",
              "      <td>Lung Opacity</td>\n",
              "    </tr>\n",
              "  </tbody>\n",
              "</table>\n",
              "</div>"
            ],
            "text/plain": [
              "                              image_name  class_id  ...   ymax         class\n",
              "4   00436515-870c-4b36-a041-de91049b9ab4         1  ...  379.0  Lung Opacity\n",
              "6   00436515-870c-4b36-a041-de91049b9ab4         1  ...  453.0  Lung Opacity\n",
              "10  00704310-78a8-4b38-8475-49f4573b2dbb         1  ...  104.0  Lung Opacity\n",
              "12  00704310-78a8-4b38-8475-49f4573b2dbb         1  ...  137.0  Lung Opacity\n",
              "18  00aecb01-a116-45a2-956c-08d2fa55433f         1  ...  135.0  Lung Opacity\n",
              "\n",
              "[5 rows x 7 columns]"
            ]
          },
          "metadata": {
            "tags": []
          },
          "execution_count": 80
        }
      ]
    },
    {
      "cell_type": "code",
      "metadata": {
        "id": "bPT7EfJmLKkO",
        "colab_type": "code",
        "colab": {
          "base_uri": "https://localhost:8080/",
          "height": 425
        },
        "outputId": "b5601fd2-ab5c-459a-a24b-02cb55a05162"
      },
      "source": [
        "import pandas as pd\n",
        "from sklearn.model_selection import train_test_split\n",
        "\n",
        "# Create pathnames from image Patient ID's\n",
        "# The directories that contain the images.\n",
        "Data_Directory = \"/content/drive/My Drive/Pneumonia Detection\"\n",
        "images_dir      = os.path.join(Data_Directory,\"JPG_Train\")\n",
        "\n",
        "y = train_class_df['class']\n",
        "X = train_class_df.drop('class', axis=1)\n",
        "\n",
        "X_train, X_test, y_train, y_test = train_test_split(X, y,test_size=0.2)\n",
        "\n",
        "print(\"\\nX_train:\\n\")\n",
        "print(X_train.head())\n",
        "print(X_train.shape)\n",
        "\n",
        "print(\"\\nX_test:\\n\")\n",
        "print(X_test.head())\n",
        "print(X_test.shape)"
      ],
      "execution_count": 81,
      "outputs": [
        {
          "output_type": "stream",
          "text": [
            "\n",
            "X_train:\n",
            "\n",
            "                                 image_name  class_id  ...   xmax   ymax\n",
            "25075  b7de17b0-c8a4-4d97-bc40-a13387bea4ef         1  ...  163.0  187.0\n",
            "8192   4b9908cd-9433-431c-9626-7e7590ff5978         1  ...  149.0  254.0\n",
            "15930  81a51c71-28ab-4a62-bb1b-458117d8234c         1  ...  206.0  448.0\n",
            "26918  bfbbedfe-0ab1-42bd-ac7f-e67b2a8e842a         1  ...  266.0  249.0\n",
            "5575   3bc44999-08aa-4429-ab87-a2958f22b2f8         1  ...  185.0  243.0\n",
            "\n",
            "[5 rows x 6 columns]\n",
            "(7644, 6)\n",
            "\n",
            "X_test:\n",
            "\n",
            "                                 image_name  class_id  ...   xmax   ymax\n",
            "16409  8502b7bb-f681-47a1-aa45-06f6b692841a         1  ...  214.0  272.0\n",
            "31791  e3bfcacf-6bb6-4af1-b49f-0a3b0cda6f96         1  ...  131.0  121.0\n",
            "18674  9305cf44-0565-4dc8-8e45-103cede2b3f9         1  ...  216.0  250.0\n",
            "34689  f7bd2b79-ca7e-4787-9d78-7041d7aa7498         1  ...  295.0  574.0\n",
            "6724   40fd6a4f-4987-494a-a297-80ba2cfa2dc4         1  ...  202.0  200.0\n",
            "\n",
            "[5 rows x 6 columns]\n",
            "(1911, 6)\n"
          ],
          "name": "stdout"
        }
      ]
    },
    {
      "cell_type": "code",
      "metadata": {
        "id": "z8r4jPCVMRH0",
        "colab_type": "code",
        "colab": {}
      },
      "source": [
        "X_train.to_csv(PROJECT_DIR + '/labels_train.csv', index=False, header=False)\n",
        "X_test.to_csv(PROJECT_DIR + '/labels_val.csv', index=False, header=False)"
      ],
      "execution_count": 82,
      "outputs": []
    },
    {
      "cell_type": "code",
      "metadata": {
        "id": "3IvYCuvdMTNO",
        "colab_type": "code",
        "colab": {
          "base_uri": "https://localhost:8080/",
          "height": 419
        },
        "outputId": "e14315c8-4f2a-43f3-c272-f8a6db4daf35"
      },
      "source": [
        "X_train"
      ],
      "execution_count": 83,
      "outputs": [
        {
          "output_type": "execute_result",
          "data": {
            "text/html": [
              "<div>\n",
              "<style scoped>\n",
              "    .dataframe tbody tr th:only-of-type {\n",
              "        vertical-align: middle;\n",
              "    }\n",
              "\n",
              "    .dataframe tbody tr th {\n",
              "        vertical-align: top;\n",
              "    }\n",
              "\n",
              "    .dataframe thead th {\n",
              "        text-align: right;\n",
              "    }\n",
              "</style>\n",
              "<table border=\"1\" class=\"dataframe\">\n",
              "  <thead>\n",
              "    <tr style=\"text-align: right;\">\n",
              "      <th></th>\n",
              "      <th>image_name</th>\n",
              "      <th>class_id</th>\n",
              "      <th>xmin</th>\n",
              "      <th>ymin</th>\n",
              "      <th>xmax</th>\n",
              "      <th>ymax</th>\n",
              "    </tr>\n",
              "  </thead>\n",
              "  <tbody>\n",
              "    <tr>\n",
              "      <th>25075</th>\n",
              "      <td>b7de17b0-c8a4-4d97-bc40-a13387bea4ef</td>\n",
              "      <td>1</td>\n",
              "      <td>266.0</td>\n",
              "      <td>594.0</td>\n",
              "      <td>163.0</td>\n",
              "      <td>187.0</td>\n",
              "    </tr>\n",
              "    <tr>\n",
              "      <th>8192</th>\n",
              "      <td>4b9908cd-9433-431c-9626-7e7590ff5978</td>\n",
              "      <td>1</td>\n",
              "      <td>240.0</td>\n",
              "      <td>411.0</td>\n",
              "      <td>149.0</td>\n",
              "      <td>254.0</td>\n",
              "    </tr>\n",
              "    <tr>\n",
              "      <th>15930</th>\n",
              "      <td>81a51c71-28ab-4a62-bb1b-458117d8234c</td>\n",
              "      <td>1</td>\n",
              "      <td>243.0</td>\n",
              "      <td>413.0</td>\n",
              "      <td>206.0</td>\n",
              "      <td>448.0</td>\n",
              "    </tr>\n",
              "    <tr>\n",
              "      <th>26918</th>\n",
              "      <td>bfbbedfe-0ab1-42bd-ac7f-e67b2a8e842a</td>\n",
              "      <td>1</td>\n",
              "      <td>479.0</td>\n",
              "      <td>667.0</td>\n",
              "      <td>266.0</td>\n",
              "      <td>249.0</td>\n",
              "    </tr>\n",
              "    <tr>\n",
              "      <th>5575</th>\n",
              "      <td>3bc44999-08aa-4429-ab87-a2958f22b2f8</td>\n",
              "      <td>1</td>\n",
              "      <td>542.0</td>\n",
              "      <td>471.0</td>\n",
              "      <td>185.0</td>\n",
              "      <td>243.0</td>\n",
              "    </tr>\n",
              "    <tr>\n",
              "      <th>...</th>\n",
              "      <td>...</td>\n",
              "      <td>...</td>\n",
              "      <td>...</td>\n",
              "      <td>...</td>\n",
              "      <td>...</td>\n",
              "      <td>...</td>\n",
              "    </tr>\n",
              "    <tr>\n",
              "      <th>14083</th>\n",
              "      <td>754ca39f-2e96-47ed-bb55-a56727317591</td>\n",
              "      <td>1</td>\n",
              "      <td>259.0</td>\n",
              "      <td>561.0</td>\n",
              "      <td>114.0</td>\n",
              "      <td>96.0</td>\n",
              "    </tr>\n",
              "    <tr>\n",
              "      <th>27305</th>\n",
              "      <td>c3412cc6-a0e9-4278-a8e4-b587d106988f</td>\n",
              "      <td>1</td>\n",
              "      <td>232.0</td>\n",
              "      <td>299.0</td>\n",
              "      <td>201.0</td>\n",
              "      <td>373.0</td>\n",
              "    </tr>\n",
              "    <tr>\n",
              "      <th>23044</th>\n",
              "      <td>aeb6324d-08d5-426b-9a60-bc39d5151edb</td>\n",
              "      <td>1</td>\n",
              "      <td>636.0</td>\n",
              "      <td>411.0</td>\n",
              "      <td>208.0</td>\n",
              "      <td>188.0</td>\n",
              "    </tr>\n",
              "    <tr>\n",
              "      <th>11698</th>\n",
              "      <td>6565a9e6-3f01-4de8-a18d-ade3121c5d7c</td>\n",
              "      <td>1</td>\n",
              "      <td>161.0</td>\n",
              "      <td>640.0</td>\n",
              "      <td>251.0</td>\n",
              "      <td>248.0</td>\n",
              "    </tr>\n",
              "    <tr>\n",
              "      <th>24389</th>\n",
              "      <td>b4857f8b-e6af-44da-84d3-ba3608ca7cb2</td>\n",
              "      <td>1</td>\n",
              "      <td>254.0</td>\n",
              "      <td>392.0</td>\n",
              "      <td>121.0</td>\n",
              "      <td>147.0</td>\n",
              "    </tr>\n",
              "  </tbody>\n",
              "</table>\n",
              "<p>7644 rows × 6 columns</p>\n",
              "</div>"
            ],
            "text/plain": [
              "                                 image_name  class_id  ...   xmax   ymax\n",
              "25075  b7de17b0-c8a4-4d97-bc40-a13387bea4ef         1  ...  163.0  187.0\n",
              "8192   4b9908cd-9433-431c-9626-7e7590ff5978         1  ...  149.0  254.0\n",
              "15930  81a51c71-28ab-4a62-bb1b-458117d8234c         1  ...  206.0  448.0\n",
              "26918  bfbbedfe-0ab1-42bd-ac7f-e67b2a8e842a         1  ...  266.0  249.0\n",
              "5575   3bc44999-08aa-4429-ab87-a2958f22b2f8         1  ...  185.0  243.0\n",
              "...                                     ...       ...  ...    ...    ...\n",
              "14083  754ca39f-2e96-47ed-bb55-a56727317591         1  ...  114.0   96.0\n",
              "27305  c3412cc6-a0e9-4278-a8e4-b587d106988f         1  ...  201.0  373.0\n",
              "23044  aeb6324d-08d5-426b-9a60-bc39d5151edb         1  ...  208.0  188.0\n",
              "11698  6565a9e6-3f01-4de8-a18d-ade3121c5d7c         1  ...  251.0  248.0\n",
              "24389  b4857f8b-e6af-44da-84d3-ba3608ca7cb2         1  ...  121.0  147.0\n",
              "\n",
              "[7644 rows x 6 columns]"
            ]
          },
          "metadata": {
            "tags": []
          },
          "execution_count": 83
        }
      ]
    },
    {
      "cell_type": "code",
      "metadata": {
        "id": "cIqTsavnc9ww",
        "colab_type": "code",
        "colab": {}
      },
      "source": [
        ""
      ],
      "execution_count": 83,
      "outputs": []
    },
    {
      "cell_type": "code",
      "metadata": {
        "id": "K1u1Cj2_I08q",
        "colab_type": "code",
        "colab": {
          "base_uri": "https://localhost:8080/",
          "height": 436
        },
        "outputId": "59887cc8-a758-4ab9-cbf1-118c0e63d14c"
      },
      "source": [
        "\n",
        "\n",
        " \n",
        "\n",
        "\n",
        "# train_images_dir      = os.path.join(Data_Directory,\"JPG_Train\")\n",
        "# val_images_dir      = os.path.join(Data_Directory,\"JPG_test\")\n",
        "# #VOC_2012_images_dir      = '../../datasets/VOCdevkit/VOC2012/JPEGImages/'\n",
        "# csv_path_train  = os.path.join(Data_Directory,\"stage_2_train_labels.csv\")\n",
        "# csv_path_valid  = os.path.join(Data_Directory,\"stage_2_detailed_class_info.csv\")\n",
        "\n",
        "# # The XML parser needs to now what object class names to look for and in which order to map them to integers.\n",
        "# classes = ['background','No Pneumonia','Pneumonia']\n",
        "\n",
        "# train_dataset.parse_csv(train_images_dir,labels_filename=csv_path_train,input_format=['image_name','xmin','ymin','xmax','ymax','class_id'],include_classes='all',random_sample=False,ret=False,verbose=True)\n",
        "\n",
        "# val_dataset.parse_csv(val_images_dir,labels_filename=csv_path_valid,input_format=['image_name','xmin','ymin','xmax','ymax','class_id'],include_classes='all',random_sample=False,ret=False,verbose=True)\n",
        "\n",
        "\n",
        "\n",
        "\n",
        "\n",
        "\n",
        "\n",
        "# 1: Instantiate two `DataGenerator` objects: One for training, one for validation.\n",
        "\n",
        "# Optional: If you have enough memory, consider loading the images into memory for the reasons explained above.\n",
        "\n",
        "train_dataset = DataGenerator(load_images_into_memory=False, hdf5_dataset_path=None)\n",
        "val_dataset = DataGenerator(load_images_into_memory=False, hdf5_dataset_path=None)\n",
        "\n",
        "# 2: Parse the image and label lists for the training and validation datasets.\n",
        "\n",
        "# TODO: Set the paths to your dataset here.\n",
        "\n",
        "# Images\n",
        "# images_dir = '/content/drive/My Drive/Pneumonia Detection/JPG_Train'\n",
        "\n",
        "Data_Directory = \"content/drive/My Drive/Pneumonia Detection\"\n",
        "\n",
        "images_dir      = os.path.join(Data_Directory, \"JPG_Train\")\n",
        "\n",
        "print(images_dir)\n",
        "\n",
        "# Ground truth\n",
        "train_labels_filename = os.path.join(PROJECT_DIR, 'labels_train.csv')\n",
        "val_labels_filename   = os.path.join(PROJECT_DIR, 'labels_val.csv')\n",
        "\n",
        "# The XML parser needs to now what object class names to look for and in which order to map them to integers.\n",
        "classes = ['background','No Pneumonia','Pneumonia']\n",
        "\n",
        "# train_dataset.parse_csv(images_dir=images_dir,\n",
        "#                         labels_filename=train_labels_filename,\n",
        "#                         input_format=['image_name', 'xmin', 'xmax', 'ymin', 'ymax', 'class_id'], # This is the order of the first six columns in the CSV file that contains the labels for your dataset. If your labels are in XML format, maybe the XML parser will be helpful, check the documentation.\n",
        "#                         include_classes='all')\n",
        "\n",
        "# val_dataset.parse_csv(images_dir=images_dir,\n",
        "#                       labels_filename=val_labels_filename,\n",
        "#                       input_format=['image_name', 'x', 'xmax', 'ymin', 'ymax', 'class_id'],\n",
        "#                       include_classes='all')\n",
        "\n",
        "train_dataset.parse_csv(images_dir = images_dir,\n",
        "                        labels_filename=train_labels_filename,\n",
        "                        input_format=['image_name','xmin','ymin','xmax','ymax', 'class_id'],\n",
        "                        include_classes='all',\n",
        "                        random_sample=False,\n",
        "                        ret=False,\n",
        "                        verbose=True)\n",
        "\n",
        "val_dataset.parse_csv(images_dir = images_dir,\n",
        "                      labels_filename=val_labels_filename,\n",
        "                      input_format=['image_name', 'xmin','ymin','xmax','ymax', 'class_id'],\n",
        "                      include_classes='all',\n",
        "                      random_sample=False,\n",
        "                      ret=False,\n",
        "                      verbose=True)\n",
        "\n",
        "\n",
        "# Optional: Convert the dataset into an HDF5 dataset. This will require more disk space, but will\n",
        "# speed up the training. Doing this is not relevant in case you activated the `load_images_into_memory`\n",
        "# option in the constructor, because in that cas the images are in memory already anyway. If you don't\n",
        "# want to create HDF5 datasets, comment out the subsequent two function calls.\n",
        "\n",
        "# train_dataset.create_hdf5_dataset(file_path='dataset_udacity_traffic_train.h5',\n",
        "#                                   resize=False,\n",
        "#                                   variable_image_size=True,\n",
        "#                                   verbose=True)\n",
        "\n",
        "# val_dataset.create_hdf5_dataset(file_path='dataset_udacity_traffic_val.h5',\n",
        "#                                 resize=False,\n",
        "#                                 variable_image_size=True,\n",
        "#                                 verbose=True)\n",
        "\n",
        "# # Get the number of samples in the training and validations datasets.\n",
        "# train_dataset_size = train_dataset.get_dataset_size()\n",
        "# val_dataset_size   = val_dataset.get_dataset_size()\n",
        "\n",
        "# print(\"Number of images in the training dataset:\\t{:>6}\".format(train_dataset_size))\n",
        "# print(\"Number of images in the validation dataset:\\t{:>6}\".format(val_dataset_size))\n"
      ],
      "execution_count": 84,
      "outputs": [
        {
          "output_type": "stream",
          "text": [
            "content/drive/My Drive/Pneumonia Detection/JPG_Train\n"
          ],
          "name": "stdout"
        },
        {
          "output_type": "error",
          "ename": "ValueError",
          "evalue": "ignored",
          "traceback": [
            "\u001b[0;31m---------------------------------------------------------------------------\u001b[0m",
            "\u001b[0;31mValueError\u001b[0m                                Traceback (most recent call last)",
            "\u001b[0;32m<ipython-input-84-0b80b6a9ff99>\u001b[0m in \u001b[0;36m<module>\u001b[0;34m()\u001b[0m\n\u001b[1;32m     66\u001b[0m                         \u001b[0mrandom_sample\u001b[0m\u001b[0;34m=\u001b[0m\u001b[0;32mFalse\u001b[0m\u001b[0;34m,\u001b[0m\u001b[0;34m\u001b[0m\u001b[0;34m\u001b[0m\u001b[0m\n\u001b[1;32m     67\u001b[0m                         \u001b[0mret\u001b[0m\u001b[0;34m=\u001b[0m\u001b[0;32mFalse\u001b[0m\u001b[0;34m,\u001b[0m\u001b[0;34m\u001b[0m\u001b[0;34m\u001b[0m\u001b[0m\n\u001b[0;32m---> 68\u001b[0;31m                         verbose=True)\n\u001b[0m\u001b[1;32m     69\u001b[0m \u001b[0;34m\u001b[0m\u001b[0m\n\u001b[1;32m     70\u001b[0m val_dataset.parse_csv(images_dir = images_dir,\n",
            "\u001b[0;32m/content/ssd_keras/data_generator/object_detection_2d_data_generator.py\u001b[0m in \u001b[0;36mparse_csv\u001b[0;34m(self, images_dir, labels_filename, input_format, include_classes, random_sample, ret, verbose)\u001b[0m\n\u001b[1;32m    331\u001b[0m                     \u001b[0mbox\u001b[0m\u001b[0;34m.\u001b[0m\u001b[0mappend\u001b[0m\u001b[0;34m(\u001b[0m\u001b[0mrow\u001b[0m\u001b[0;34m[\u001b[0m\u001b[0mself\u001b[0m\u001b[0;34m.\u001b[0m\u001b[0minput_format\u001b[0m\u001b[0;34m.\u001b[0m\u001b[0mindex\u001b[0m\u001b[0;34m(\u001b[0m\u001b[0;34m'image_name'\u001b[0m\u001b[0;34m)\u001b[0m\u001b[0;34m]\u001b[0m\u001b[0;34m.\u001b[0m\u001b[0mstrip\u001b[0m\u001b[0;34m(\u001b[0m\u001b[0;34m)\u001b[0m\u001b[0;34m)\u001b[0m \u001b[0;31m# Select the image name column in the input format and append its content to `box`\u001b[0m\u001b[0;34m\u001b[0m\u001b[0;34m\u001b[0m\u001b[0m\n\u001b[1;32m    332\u001b[0m                     \u001b[0;32mfor\u001b[0m \u001b[0melement\u001b[0m \u001b[0;32min\u001b[0m \u001b[0mself\u001b[0m\u001b[0;34m.\u001b[0m\u001b[0mlabels_output_format\u001b[0m\u001b[0;34m:\u001b[0m \u001b[0;31m# For each element in the output format (where the elements are the class ID and the four box coordinates)...\u001b[0m\u001b[0;34m\u001b[0m\u001b[0;34m\u001b[0m\u001b[0m\n\u001b[0;32m--> 333\u001b[0;31m                         \u001b[0mbox\u001b[0m\u001b[0;34m.\u001b[0m\u001b[0mappend\u001b[0m\u001b[0;34m(\u001b[0m\u001b[0mint\u001b[0m\u001b[0;34m(\u001b[0m\u001b[0mrow\u001b[0m\u001b[0;34m[\u001b[0m\u001b[0mself\u001b[0m\u001b[0;34m.\u001b[0m\u001b[0minput_format\u001b[0m\u001b[0;34m.\u001b[0m\u001b[0mindex\u001b[0m\u001b[0;34m(\u001b[0m\u001b[0melement\u001b[0m\u001b[0;34m)\u001b[0m\u001b[0;34m]\u001b[0m\u001b[0;34m.\u001b[0m\u001b[0mstrip\u001b[0m\u001b[0;34m(\u001b[0m\u001b[0;34m)\u001b[0m\u001b[0;34m)\u001b[0m\u001b[0;34m)\u001b[0m \u001b[0;31m# ...select the respective column in the input format and append it to `box`.\u001b[0m\u001b[0;34m\u001b[0m\u001b[0;34m\u001b[0m\u001b[0m\n\u001b[0m\u001b[1;32m    334\u001b[0m                     \u001b[0mdata\u001b[0m\u001b[0;34m.\u001b[0m\u001b[0mappend\u001b[0m\u001b[0;34m(\u001b[0m\u001b[0mbox\u001b[0m\u001b[0;34m)\u001b[0m\u001b[0;34m\u001b[0m\u001b[0;34m\u001b[0m\u001b[0m\n\u001b[1;32m    335\u001b[0m \u001b[0;34m\u001b[0m\u001b[0m\n",
            "\u001b[0;31mValueError\u001b[0m: invalid literal for int() with base 10: '254.0'"
          ]
        }
      ]
    },
    {
      "cell_type": "code",
      "metadata": {
        "id": "Dcgig6qcW7BV",
        "colab_type": "code",
        "colab": {}
      },
      "source": [
        "# 3: Set the batch size.\n",
        "\n",
        "batch_size = 32 # Change the batch size if you like, or if you run into GPU memory issues.\n",
        "\n",
        "# 4: Set the image transformations for pre-processing and data augmentation options.\n",
        "\n",
        "# For the training generator:\n",
        "ssd_data_augmentation = SSDDataAugmentation(img_height=img_height,\n",
        "                                            img_width=img_width,\n",
        "                                            background=mean_color)\n",
        "\n",
        "# For the validation generator:\n",
        "convert_to_3_channels = ConvertTo3Channels()\n",
        "resize = Resize(height=img_height, width=img_width)\n",
        "\n",
        "# 5: Instantiate an encoder that can encode ground truth labels into the format needed by the SSD loss function.\n",
        "\n",
        "# The encoder constructor needs the spatial dimensions of the model's predictor layers to create the anchor boxes.\n",
        "predictor_sizes = [model.get_layer('conv4_3_norm_mbox_conf').output_shape[1:3],\n",
        "                   model.get_layer('fc7_mbox_conf').output_shape[1:3],\n",
        "                   model.get_layer('conv6_2_mbox_conf').output_shape[1:3],\n",
        "                   model.get_layer('conv7_2_mbox_conf').output_shape[1:3],\n",
        "                   model.get_layer('conv8_2_mbox_conf').output_shape[1:3],\n",
        "                   model.get_layer('conv9_2_mbox_conf').output_shape[1:3]]\n",
        "\n",
        "ssd_input_encoder = SSDInputEncoder(img_height=img_height,\n",
        "                                    img_width=img_width,\n",
        "                                    n_classes=n_classes,\n",
        "                                    predictor_sizes=predictor_sizes,\n",
        "                                    scales=scales,\n",
        "                                    aspect_ratios_per_layer=aspect_ratios,\n",
        "                                    two_boxes_for_ar1=two_boxes_for_ar1,\n",
        "                                    steps=steps,\n",
        "                                    offsets=offsets,\n",
        "                                    clip_boxes=clip_boxes,\n",
        "                                    variances=variances,\n",
        "                                    matching_type='multi',\n",
        "                                    pos_iou_threshold=0.5,\n",
        "                                    neg_iou_limit=0.5,\n",
        "                                    normalize_coords=normalize_coords)\n",
        "\n",
        "# 6: Create the generator handles that will be passed to Keras' `fit_generator()` function.\n",
        "\n",
        "train_generator = train_dataset.generate(batch_size=batch_size,\n",
        "                                         shuffle=True,\n",
        "                                         transformations=[ssd_data_augmentation],\n",
        "                                         label_encoder=ssd_input_encoder,\n",
        "                                         returns={'processed_images',\n",
        "                                                  'encoded_labels'},\n",
        "                                         keep_images_without_gt=False)\n",
        "\n",
        "val_generator = val_dataset.generate(batch_size=batch_size,\n",
        "                                     shuffle=False,\n",
        "                                     transformations=[convert_to_3_channels,resize],\n",
        "                                     label_encoder=ssd_input_encoder,\n",
        "                                     returns={'processed_images',\n",
        "                                              'encoded_labels'},\n",
        "                                     keep_images_without_gt=False)\n",
        "\n",
        "# Get the number of samples in the training and validations datasets.\n",
        "train_dataset_size = train_dataset.get_dataset_size()\n",
        "val_dataset_size   = val_dataset.get_dataset_size()\n",
        "\n",
        "print(\"Number of images in the training dataset:\\t{:>6}\".format(train_dataset_size)) #7584\n",
        "print(\"Number of images in the validation dataset:\\t{:>6}\".format(val_dataset_size))"
      ],
      "execution_count": null,
      "outputs": []
    },
    {
      "cell_type": "code",
      "metadata": {
        "id": "paMkDshegBPc",
        "colab_type": "code",
        "colab": {}
      },
      "source": [
        "# Define a learning rate schedule.\n",
        "\n",
        "def lr_schedule(epoch):\n",
        "    if epoch < 80:\n",
        "        return 0.001\n",
        "    elif epoch < 100:\n",
        "        return 0.0001\n",
        "    else:\n",
        "        return 0.00001"
      ],
      "execution_count": null,
      "outputs": []
    },
    {
      "cell_type": "code",
      "metadata": {
        "id": "A6mTH20rpnQ9",
        "colab_type": "code",
        "colab": {}
      },
      "source": [
        "# Define model callbacks.\n",
        "\n",
        "# TODO: Set the filepath under which you want to save the model.\n",
        "\n",
        "model_checkpoint = ModelCheckpoint(filepath='ssd300_pneumonia_epoch-{epoch:02d}_loss-{loss:.4f}_val_loss-{val_loss:.4f}.h5',\n",
        "                                   monitor='val_loss',\n",
        "                                   verbose=1,\n",
        "                                   save_best_only=True,\n",
        "                                   save_weights_only=False,\n",
        "                                   mode='auto',\n",
        "                                   period=1)\n",
        "#model_checkpoint.best = \n",
        "csv_logger = CSVLogger(filename='ssd300_pneumonia_training_log.csv',\n",
        "                       separator=',',\n",
        "                       append=True)\n",
        "\n",
        "\n",
        "\n",
        "learning_rate_scheduler = LearningRateScheduler(schedule=lr_schedule)\n",
        "\n",
        "#terminate_on_nan = TerminateOnNaN()\n",
        "\n",
        "callbacks = [model_checkpoint,\n",
        "             csv_logger,\n",
        "             learning_rate_scheduler\n",
        "             ]\n",
        "             "
      ],
      "execution_count": null,
      "outputs": []
    },
    {
      "cell_type": "code",
      "metadata": {
        "id": "Wjf45a63prAP",
        "colab_type": "code",
        "colab": {}
      },
      "source": [
        "# If you're resuming a previous training, set `initial_epoch` and `final_epoch` accordingly.\n",
        "initial_epoch   = 0\n",
        "final_epoch     = 40\n",
        "steps_per_epoch = 75\n",
        "\n",
        "\n",
        "# history = model.fit_generator(generator=train_generator,\n",
        "#                               steps_per_epoch=steps_per_epoch,\n",
        "#                               epochs=final_epoch,\n",
        "#                               callbacks=callbacks,\n",
        "#                               validation_data=val_generator,\n",
        "#                               validation_steps=ceil(val_dataset_size/batch_size),\n",
        "#                               verbose=1)\n",
        "                              \n",
        "\n",
        "\n",
        "history = model.fit_generator(generator=train_generator,\n",
        "                              steps_per_epoch=steps_per_epoch,\n",
        "                              epochs=final_epoch,\n",
        "                              # callbacks=callbacks,\n",
        "                              validation_data=val_generator,\n",
        "                              validation_steps=ceil(val_dataset_size/batch_size),\n",
        "                              initial_epoch=initial_epoch,\n",
        "                              verbose=1)"
      ],
      "execution_count": null,
      "outputs": []
    },
    {
      "cell_type": "code",
      "metadata": {
        "id": "6yvnHqOIptTJ",
        "colab_type": "code",
        "colab": {}
      },
      "source": [
        ""
      ],
      "execution_count": null,
      "outputs": []
    }
  ]
}